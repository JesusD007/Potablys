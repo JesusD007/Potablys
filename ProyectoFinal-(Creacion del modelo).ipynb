{
 "cells": [
  {
   "cell_type": "markdown",
   "metadata": {},
   "source": [
    "# Proyecto Final Samsung Inovation Campus\n",
    "---"
   ]
  },
  {
   "cell_type": "markdown",
   "metadata": {},
   "source": [
    "## Importación de librerias"
   ]
  },
  {
   "cell_type": "code",
   "execution_count": 1,
   "metadata": {},
   "outputs": [],
   "source": [
    "import pandas as pd\n",
    "import tensorflow as tf\n",
    "import matplotlib.pyplot  as plt\n",
    "import numpy as np\n",
    "from sklearn.preprocessing import StandardScaler"
   ]
  },
  {
   "cell_type": "markdown",
   "metadata": {},
   "source": [
    "## Preparacion de la data"
   ]
  },
  {
   "cell_type": "markdown",
   "metadata": {},
   "source": [
    "### Separacion "
   ]
  },
  {
   "cell_type": "code",
   "execution_count": 2,
   "metadata": {},
   "outputs": [],
   "source": [
    "original_df = pd.read_csv('water_potability.csv')\n",
    "\n",
    "# Extraccion los últimos 300 registros\n",
    "records = original_df.tail(300)\n",
    "\n",
    "# Nuevo DataFrame con los ultimos 300 registros\n",
    "testing_df = records.copy()\n",
    "\n",
    "# Eliminacion los últimos 300 registros del DataFrame de entrenamiento\n",
    "training_df = original_df.drop(original_df.tail(300).index)\n"
   ]
  },
  {
   "cell_type": "markdown",
   "metadata": {},
   "source": [
    "### Limpieza"
   ]
  },
  {
   "cell_type": "code",
   "execution_count": 4,
   "metadata": {},
   "outputs": [],
   "source": [
    "#Reemplazo de valores nulos (usando el promedio de la columna)\n",
    "#En valores de entrenamiento\n",
    "training_df.fillna(training_df.mean(),inplace=True)\n",
    "#En valores de prueba\n",
    "testing_df.fillna(testing_df.mean(),inplace=True)\n",
    "\n",
    "# Guardado de DataFrames\n",
    "testing_df.to_csv('Test Records.csv', index=False)\n",
    "training_df.to_csv('Training Records.csv', index=False)"
   ]
  },
  {
   "cell_type": "markdown",
   "metadata": {},
   "source": [
    "### Ordenado para entrenamiento"
   ]
  },
  {
   "cell_type": "code",
   "execution_count": 5,
   "metadata": {},
   "outputs": [],
   "source": [
    "#Separacion de Entradas y Salidas para entranamiento\n",
    "inp= training_df[['ph', 'Hardness', 'Solids','Chloramines','Sulfate','Conductivity', 'Organic_carbon','Trihalomethanes','Turbidity']].to_numpy()\n",
    "out= training_df[['Potability']].to_numpy()\n",
    "\n",
    "#Escalado de datos\n",
    "scaler = StandardScaler()\n",
    "inp_training_scaled = scaler.fit_transform(inp)"
   ]
  },
  {
   "cell_type": "markdown",
   "metadata": {},
   "source": [
    "## Red Neuronal"
   ]
  },
  {
   "cell_type": "markdown",
   "metadata": {},
   "source": [
    "### Modelos"
   ]
  },
  {
   "cell_type": "markdown",
   "metadata": {},
   "source": [
    "#### Modelo #1"
   ]
  },
  {
   "cell_type": "code",
   "execution_count": 5,
   "metadata": {},
   "outputs": [
    {
     "name": "stderr",
     "output_type": "stream",
     "text": [
      "c:\\Users\\jesus\\OneDrive\\Escritorio\\Education\\Samsung Inovation Campus\\Clases\\Asignaciones\\Semana 7\\Quizz\\pandas_venv\\Lib\\site-packages\\keras\\src\\layers\\core\\dense.py:87: UserWarning: Do not pass an `input_shape`/`input_dim` argument to a layer. When using Sequential models, prefer using an `Input(shape)` object as the first layer in the model instead.\n",
      "  super().__init__(activity_regularizer=activity_regularizer, **kwargs)\n"
     ]
    }
   ],
   "source": [
    "hidden_layer1 = tf.keras.layers.Dense(units=3, input_shape=[9], activation='relu')\n",
    "hidden_layer2 = tf.keras.layers.Dense(units=3, activation='relu')\n",
    "output = tf.keras.layers.Dense(units=1, activation='sigmoid')\n",
    "\n",
    "model = tf.keras.Sequential([hidden_layer1,hidden_layer2,output])"
   ]
  },
  {
   "cell_type": "markdown",
   "metadata": {},
   "source": [
    "#### Modelo #2 **(Elegido)**"
   ]
  },
  {
   "cell_type": "code",
   "execution_count": 6,
   "metadata": {},
   "outputs": [
    {
     "name": "stderr",
     "output_type": "stream",
     "text": [
      "c:\\Users\\jesus\\OneDrive\\Escritorio\\Education\\Samsung Inovation Campus\\Clases\\Asignaciones\\Semana 7\\Quizz\\pandas_venv\\Lib\\site-packages\\keras\\src\\layers\\core\\dense.py:87: UserWarning: Do not pass an `input_shape`/`input_dim` argument to a layer. When using Sequential models, prefer using an `Input(shape)` object as the first layer in the model instead.\n",
      "  super().__init__(activity_regularizer=activity_regularizer, **kwargs)\n"
     ]
    }
   ],
   "source": [
    "hidden_layer1 = tf.keras.layers.Dense(units=32, input_shape=[9], activation='relu')\n",
    "hidden_layer2 = tf.keras.layers.Dense(units=16, activation='relu')\n",
    "hidden_layer3 = tf.keras.layers.Dense(units=8, activation='relu')\n",
    "output = tf.keras.layers.Dense(units=1, activation='sigmoid')\n",
    "\n",
    "model = tf.keras.Sequential([hidden_layer1, hidden_layer2, hidden_layer3, output])"
   ]
  },
  {
   "cell_type": "markdown",
   "metadata": {},
   "source": [
    "#### Modelo #3"
   ]
  },
  {
   "cell_type": "code",
   "execution_count": 6,
   "metadata": {},
   "outputs": [],
   "source": [
    "hidden_layer1 = tf.keras.layers.Dense(units=16, input_shape=[9], activation='relu')\n",
    "hidden_layer2 = tf.keras.layers.Dense(units=8, activation='relu')\n",
    "hidden_layer3 = tf.keras.layers.Dense(units=4, activation='relu')\n",
    "output = tf.keras.layers.Dense(units=1, activation='sigmoid')\n",
    "\n",
    "model = tf.keras.Sequential([hidden_layer1, hidden_layer2, hidden_layer3, output])"
   ]
  },
  {
   "cell_type": "markdown",
   "metadata": {},
   "source": [
    "### Compilación y Entrenamiento del Modelo"
   ]
  },
  {
   "cell_type": "markdown",
   "metadata": {},
   "source": [
    "#### Compilación"
   ]
  },
  {
   "cell_type": "code",
   "execution_count": 7,
   "metadata": {},
   "outputs": [],
   "source": [
    "model.compile(\n",
    "    optimizer=tf.keras.optimizers.Adam(learning_rate=0.0007),\n",
    "    loss='binary_crossentropy',\n",
    "    metrics=['accuracy']\n",
    ")"
   ]
  },
  {
   "cell_type": "markdown",
   "metadata": {},
   "source": [
    "#### Entrenamiento"
   ]
  },
  {
   "cell_type": "code",
   "execution_count": 8,
   "metadata": {},
   "outputs": [
    {
     "name": "stdout",
     "output_type": "stream",
     "text": [
      "Entrenando...\n",
      "Entrenando\n"
     ]
    }
   ],
   "source": [
    "print(\"Entrenando...\")\n",
    "historial = model.fit(inp_training_scaled, out, epochs = 6000, verbose= 0)\n",
    "print(\"Entrenando\")"
   ]
  },
  {
   "cell_type": "markdown",
   "metadata": {},
   "source": [
    "### Métricas"
   ]
  },
  {
   "cell_type": "code",
   "execution_count": 9,
   "metadata": {},
   "outputs": [
    {
     "name": "stdout",
     "output_type": "stream",
     "text": [
      "Claves del historial: dict_keys(['accuracy', 'loss'])\n",
      "Último valor de pérdida: 0.11511838436126709\n",
      "Último valor de exactitud: 0.9556451439857483\n"
     ]
    },
    {
     "data": {
      "image/png": "[encoded data removed]",
      "text/plain": [
       "<Figure size 640x480 with 1 Axes>"
      ]
     },
     "metadata": {},
     "output_type": "display_data"
    }
   ],
   "source": [
    "#Obtencion de valores de Precición y Perdida\n",
    "print(\"Claves del historial:\", historial.history.keys())\n",
    "loss_values = historial.history['loss']\n",
    "accuracy_values = historial.history['accuracy']\n",
    "print(\"Último valor de pérdida:\", loss_values[-1])\n",
    "print(\"Último valor de exactitud:\", accuracy_values[-1])\n",
    "\n",
    "#Vista grafica de los Valores\n",
    "plt.figure()\n",
    "plt.xlabel(\"# Epoca\")\n",
    "plt.ylabel(\"Magnitud de pérdida\")\n",
    "plt.plot(historial.history[\"loss\"], label='Pérdida')\n",
    "plt.plot(historial.history[\"accuracy\"], label='Exactitud')\n",
    "plt.legend()\n",
    "plt.show()"
   ]
  },
  {
   "cell_type": "markdown",
   "metadata": {},
   "source": [
    "### Predicción de Prueba"
   ]
  },
  {
   "cell_type": "code",
   "execution_count": 11,
   "metadata": {},
   "outputs": [
    {
     "name": "stdout",
     "output_type": "stream",
     "text": [
      "Predicción\n",
      "\u001b[1m1/1\u001b[0m \u001b[32m━━━━━━━━━━━━━━━━━━━━\u001b[0m\u001b[37m\u001b[0m \u001b[1m0s\u001b[0m 17ms/step\n",
      "[[1]\n",
      " [0]\n",
      " [0]\n",
      " [0]]\n",
      "[[1.00000000e+00]\n",
      " [3.34770556e-22]\n",
      " [3.77147317e-01]\n",
      " [3.95786603e-09]]\n"
     ]
    }
   ],
   "source": [
    "#Datos de Prueba\n",
    "print(\"Predicción\")\n",
    "#720 (Control) - Salida 1\n",
    "dato0 = [7.417502636689077,198.70565298813403,24389.36288513361,4.790681389223984,289.3313577693062,366.3707236475444,18.415180455004304,87.99622277162433,3.3912406668716133] \n",
    "#2867 - Salida 1\n",
    "dato1 = [1.130768886836288,266.7449592274032,9929.194809860886,6.011964238184745,352.1532144022425,542.8067817707314,10.974207361682431,65.782453044405,4.771443754534465] \n",
    "#2869 - Salida 1\n",
    "dato2 = [7.1252110755305536,209.7467711974657,16701.56597534472,7.458741450053704,320.50094487053195,404.7045963253844,18.9527967341603,92.34737526315509,3.9080753459125]\n",
    "#2871 - Salida 0\n",
    "dato3 = [7.171924088146052,254.1253887500646,9959.1350153987,4.008584109643412,335.56910231011415,364.8062731549298,11.316645280298758,59.35322110637468,3.170543086971916]\n",
    "\n",
    "input_data = np.array([dato0,dato1,dato2,dato3])\n",
    "\n",
    "# Escalado de entradas\n",
    "input_data_scaled = scaler.transform(input_data) \n",
    "\n",
    "# Predicción\n",
    "resultado = model.predict(input_data_scaled)\n",
    "resultado_entero = (resultado>=0.5).astype(int)\n",
    "print (resultado_entero)\n",
    "\n",
    "resultado_flotante = resultado.astype(float)\n",
    "print (resultado_flotante)"
   ]
  },
  {
   "cell_type": "markdown",
   "metadata": {},
   "source": [
    "### Exportación del Modelo"
   ]
  },
  {
   "cell_type": "code",
   "execution_count": 12,
   "metadata": {},
   "outputs": [
    {
     "name": "stderr",
     "output_type": "stream",
     "text": [
      "WARNING:absl:You are saving your model as an HDF5 file via `model.save()` or `keras.saving.save_model(model)`. This file format is considered legacy. We recommend using instead the native Keras format, e.g. `model.save('my_model.keras')` or `keras.saving.save_model(model, 'my_model.keras')`. \n"
     ]
    }
   ],
   "source": [
    "model.save(\"Water_Model.h5\")"
   ]
  }
 ],
 "metadata": {
  "kernelspec": {
   "display_name": "pandas_kernel",
   "language": "python",
   "name": "pandas_kernel"
  },
  "language_info": {
   "codemirror_mode": {
    "name": "ipython",
    "version": 3
   },
   "file_extension": ".py",
   "mimetype": "text/x-python",
   "name": "python",
   "nbconvert_exporter": "python",
   "pygments_lexer": "ipython3",
   "version": "3.12.2"
  }
 },
 "nbformat": 4,
 "nbformat_minor": 2
}
